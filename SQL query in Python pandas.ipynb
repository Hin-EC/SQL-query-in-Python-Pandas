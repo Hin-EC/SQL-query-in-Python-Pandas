{
 "cells": [
  {
   "cell_type": "code",
   "execution_count": null,
   "id": "a1124f61-4eb5-44a8-8c31-6117689ae553",
   "metadata": {},
   "outputs": [],
   "source": [
    "import pandas as pd\n",
    "# a summary of how to do the SQL syntax in Python Pandas\n",
    "# it following by the step of SQL running sequence\n",
    "# FROM and JOIN, WHERE, GROUP BY, HAVING, SELECT, DISTINCT, ORDERBY, LIMIT OFFSET"
   ]
  },
  {
   "cell_type": "code",
   "execution_count": null,
   "id": "da9af60e-6ebe-4d2a-b1c3-7d01e8439ece",
   "metadata": {},
   "outputs": [],
   "source": [
    "# put the CSV file into a dataframe\n",
    "df1 = pd.read_csv(\"file1.csv\")"
   ]
  },
  {
   "cell_type": "code",
   "execution_count": null,
   "id": "8749efd0-b503-4923-bab1-de90fde43526",
   "metadata": {},
   "outputs": [],
   "source": [
    "# if you have more that one dataset and would like to join together\n",
    "# import it to an other dataframe\n",
    "df2 = pd.read_csv(\"file2.csv\")"
   ]
  },
  {
   "cell_type": "code",
   "execution_count": null,
   "id": "40907465-5bf5-460e-ad85-d00eb4c027d2",
   "metadata": {},
   "outputs": [],
   "source": [
    "# show the columns name\n",
    "df1.columns"
   ]
  },
  {
   "cell_type": "code",
   "execution_count": null,
   "id": "e62fce2c-7d86-4b7d-920d-a968736e6733",
   "metadata": {},
   "outputs": [],
   "source": [
    "# give the number of rows and columns\n",
    "print(\"column: \", len(df1.columns), 'row: ', len(df1))"
   ]
  },
  {
   "cell_type": "code",
   "execution_count": null,
   "id": "55955c21-9994-40a6-ae2c-5f38eaad998b",
   "metadata": {},
   "outputs": [],
   "source": [
    "# give the list of data type\n",
    "df1.dtypes"
   ]
  },
  {
   "cell_type": "code",
   "execution_count": null,
   "id": "cd250afd-1795-464c-a662-6add0d7f336f",
   "metadata": {},
   "outputs": [],
   "source": [
    "# update datatype int, float, str, datetime\n",
    "df1 = df1.astype({'column1': 'int','column2':'str'})\n",
    "df1.dtypes"
   ]
  },
  {
   "cell_type": "code",
   "execution_count": null,
   "id": "c3f92bde-e6bd-4e86-8429-47c278d84142",
   "metadata": {},
   "outputs": [],
   "source": [
    "# SELECT * FROM table: show whole dataset in table\n",
    "# in python, please use the following code\n",
    "# print(df1.to_string())\n",
    "df1"
   ]
  },
  {
   "cell_type": "code",
   "execution_count": null,
   "id": "656a6c5c-5fe5-4d46-be76-2ba86d247ec1",
   "metadata": {},
   "outputs": [],
   "source": [
    "# select table and inner join it\n",
    "join_df = pd.merge(df1, df2, on = \"id\", how = \"inner\")"
   ]
  },
  {
   "cell_type": "code",
   "execution_count": null,
   "id": "45280199-14fd-411b-beb9-38a479a530c7",
   "metadata": {},
   "outputs": [],
   "source": [
    "# WHERE condition\n",
    "condition = (join_df['column1'] == value) & (join_df['column2'] >= value)\n",
    "\n",
    "join_df[condition]\n"
   ]
  },
  {
   "cell_type": "code",
   "execution_count": null,
   "id": "dddfcd4d-e3e6-494c-a539-ddc0b254a616",
   "metadata": {},
   "outputs": [],
   "source": [
    "# WHERE IN \n",
    "list = [\"value1\",\"value2\"]\n",
    "condition = (join_df['column1'].isin(list))\n",
    "join_df[condition]\n"
   ]
  },
  {
   "cell_type": "code",
   "execution_count": null,
   "id": "d94bd24e-fbbe-4c95-b71f-8004fcb92794",
   "metadata": {
    "scrolled": true
   },
   "outputs": [],
   "source": [
    "# WHERE NOT IN: use ~ operator\n",
    "list = [\"value1\",\"value2\"]\n",
    "condition = ~(join_df['column1'].isin(list))\n",
    "join_df[condition]\n"
   ]
  },
  {
   "cell_type": "code",
   "execution_count": null,
   "id": "03f5024b-b8ae-4151-be85-286626683c35",
   "metadata": {},
   "outputs": [],
   "source": [
    "# WHERE LIKE %str%\n",
    "condition = join_df['column1'].str.contains('str')\n",
    "join_df[condition]"
   ]
  },
  {
   "cell_type": "code",
   "execution_count": null,
   "id": "280ec28b-2d5a-4555-9af1-82f8af74a3e8",
   "metadata": {},
   "outputs": [],
   "source": [
    "# WHERE LIKE str%: str.startswith()\n",
    "condition = join_df['column1'].str.startswith('str')\n",
    "join_df[condition]\n"
   ]
  },
  {
   "cell_type": "code",
   "execution_count": null,
   "id": "d9bc0f93-a9f9-47e6-82e5-d4005cd469b4",
   "metadata": {},
   "outputs": [],
   "source": [
    "# WHERE LIKE %str: str.endswith\n",
    "condition = join_df['column1'].str.endswith('str')\n",
    "join_df[condition]"
   ]
  },
  {
   "cell_type": "code",
   "execution_count": null,
   "id": "7a3fc4a1-de8f-4dde-90d9-26031e686f42",
   "metadata": {},
   "outputs": [],
   "source": [
    "# WHERE LIKE use regex for all above  \n",
    "condition = join_df['column1'].str.contains(r'^[A-E]',regex = True)\n",
    "join_df[condition]"
   ]
  },
  {
   "cell_type": "code",
   "execution_count": null,
   "id": "aeaa58f2-8f77-4ea6-be37-34b8e8ed3efd",
   "metadata": {},
   "outputs": [],
   "source": [
    "# Group by with AVG(): mean(), MAX():max(), MIN(): min(), Mode(): mode(),MEDIAN(): median(),COUNT(): count(),SUM():\n",
    "Result = join_df.groupby('group by column')[\"value column\"].mean().reset_index\n",
    "print(Result)"
   ]
  },
  {
   "cell_type": "code",
   "execution_count": null,
   "id": "e65717e1-25dc-4bcd-9b56-3e36426a506e",
   "metadata": {},
   "outputs": [],
   "source": [
    "# Group by with COUNT()\n",
    "df1['group by column'].value_counts()"
   ]
  },
  {
   "cell_type": "code",
   "execution_count": null,
   "id": "782148e8-3417-44cc-b642-29e4b80cff0f",
   "metadata": {},
   "outputs": [],
   "source": [
    "# HAVING\n",
    "\n",
    "# In SQL HAVING is uese for filtering the result aggregation fucntion\n",
    "# In pandas create a result of aggregation\n",
    "Result = join_df.groupby('group by column')[\"value column\"].mean().reset_index()\n",
    "\n",
    "# apply the filter on the result\n",
    "Result = Result[(Result[\"value column\"] >= 80)]\n",
    "Result\n"
   ]
  },
  {
   "cell_type": "code",
   "execution_count": null,
   "id": "c0a7dd91-558c-401e-b76c-c82c0c49bc6a",
   "metadata": {},
   "outputs": [],
   "source": [
    "# SELECT column1 FROM join_df\n",
    "join_df['column1']\n"
   ]
  },
  {
   "cell_type": "code",
   "execution_count": null,
   "id": "71294bfc-e38e-4fd5-af9b-f136b4974e42",
   "metadata": {},
   "outputs": [],
   "source": [
    "# SELECT column1, column2 FROM join_df\n",
    "join_df[['column1','column2']]\n"
   ]
  },
  {
   "cell_type": "code",
   "execution_count": null,
   "id": "976cb967-f0f0-437e-880c-a437c47b0a59",
   "metadata": {},
   "outputs": [],
   "source": [
    "# SELECT DISTINCT\n",
    "Result = df1['Distint column'].drop_duplicates().reset_index(drop = True)\n",
    "Result\n"
   ]
  },
  {
   "cell_type": "code",
   "execution_count": null,
   "id": "68597070-2a97-42cf-9e2a-6ad6b9556018",
   "metadata": {},
   "outputs": [],
   "source": [
    "# SELECT COUNT(DISTINCE): use .count() \n",
    "print(Result.count())"
   ]
  },
  {
   "cell_type": "code",
   "execution_count": null,
   "id": "c1fa20d8-765b-455a-8bdb-a5e8646efd28",
   "metadata": {},
   "outputs": [],
   "source": [
    "# COUNT(DISTINCT): nunique()\n",
    "df1[\"column\"].nunique()"
   ]
  },
  {
   "cell_type": "code",
   "execution_count": null,
   "id": "f83cbc7c-0230-4721-9dd5-fb1d6ebfb654",
   "metadata": {},
   "outputs": [],
   "source": [
    "# create a new column by aggregation\n",
    "# SELECT column1 * column2 AS new_column\n",
    "df1['new_column'] = df1['column1'] * df1['column2']"
   ]
  },
  {
   "cell_type": "code",
   "execution_count": null,
   "id": "d5f4fdc5-aad7-4b6b-8d6c-70609a063ae5",
   "metadata": {},
   "outputs": [],
   "source": []
  },
  {
   "cell_type": "code",
   "execution_count": null,
   "id": "fb6a2d44-6299-476a-bc79-9d6820a45c55",
   "metadata": {},
   "outputs": [],
   "source": [
    "# SELECT column as New column name: rename the column\n",
    "# inplase = True will update this data set\n",
    "# inplase = False will return a new dataset\n",
    "\n",
    "join_df.rename(columns = {'cloumn1_name':'new_name1','cloumn2_name':'new_name2'}, inplace = True)\n",
    "\n",
    "join_df"
   ]
  },
  {
   "cell_type": "code",
   "execution_count": null,
   "id": "f1fc17c7-f267-4bb9-b7c6-73ce4e0b0819",
   "metadata": {},
   "outputs": [],
   "source": []
  },
  {
   "cell_type": "code",
   "execution_count": null,
   "id": "bda8273f-268c-4530-b0ac-923b7a2c0e87",
   "metadata": {},
   "outputs": [],
   "source": [
    "# ORDER BY column1\n",
    "join_df.sort_values(by = 'column1', ascending = True)\n"
   ]
  },
  {
   "cell_type": "code",
   "execution_count": null,
   "id": "17557160-08e2-458b-ae71-036daa182c08",
   "metadata": {},
   "outputs": [],
   "source": [
    "# ORDER BY column1 , column2\n",
    "ColList = ['column1', 'column2']\n",
    "AscList = [True, False]\n",
    "join_df.sort_values(by = ColList, ascending = AscList)"
   ]
  },
  {
   "cell_type": "code",
   "execution_count": null,
   "id": "e5d408d7-4d29-4ef9-9b79-13914eee866b",
   "metadata": {},
   "outputs": [],
   "source": [
    "# ORDER BY with GROUP BY\n",
    "# create a result of groupby aggregation\n",
    "Result = join_df.groupby('group by column')[\"value column\"].mean().reset_index()\n",
    "\n",
    "# sort the result by sort_values and reset index\n",
    "Result = Result.sort_values(by = 'group by column', ascending = True).reset_index(drop = True)\n",
    "Result"
   ]
  },
  {
   "cell_type": "code",
   "execution_count": null,
   "id": "e3d8dc1d-965d-4326-9ff1-1e88ebc8d06d",
   "metadata": {},
   "outputs": [],
   "source": []
  },
  {
   "cell_type": "code",
   "execution_count": null,
   "id": "abb07398-45b0-408f-b5da-b1f0e6d4a5e7",
   "metadata": {},
   "outputs": [],
   "source": [
    "# LIMIT 10\n",
    "join_df.head(10)"
   ]
  },
  {
   "cell_type": "code",
   "execution_count": null,
   "id": "18626883-5f13-4fce-9874-37c1049c2ebe",
   "metadata": {},
   "outputs": [],
   "source": [
    "# LIMIT 10 OFFSET 5\n",
    "join_df.iloc[6:16]"
   ]
  },
  {
   "cell_type": "code",
   "execution_count": null,
   "id": "cfbbece6-b3ce-48d8-a79c-ca9752c0ca18",
   "metadata": {},
   "outputs": [],
   "source": [
    "#SELECT column1, column2 FROM JOIN TABLE LIMIT 10 OFFSET 5\n",
    "join_df.loc[6:16,['column1','column2']]"
   ]
  },
  {
   "cell_type": "code",
   "execution_count": null,
   "id": "bef4baa4-efb1-4563-8550-4b002d255192",
   "metadata": {},
   "outputs": [],
   "source": []
  },
  {
   "cell_type": "code",
   "execution_count": null,
   "id": "7e769761-d2b6-48d3-adc4-82aff886f1a5",
   "metadata": {},
   "outputs": [],
   "source": [
    "# export dataframe to excel file\n",
    "join_df.to_excel('join_result.xlsx')"
   ]
  },
  {
   "cell_type": "code",
   "execution_count": null,
   "id": "f32fb25c-b528-4908-a3b6-0d0a80f7b46b",
   "metadata": {},
   "outputs": [],
   "source": [
    "# export dataframe to csv file\n",
    "join_df.to_csv('join_result.csv')"
   ]
  },
  {
   "cell_type": "code",
   "execution_count": null,
   "id": "193a2b43-8423-4876-91d4-aafe53fd3dbd",
   "metadata": {},
   "outputs": [],
   "source": [
    "# export dataframe to json file\n",
    "join_df.to_json('join_result.json')\n"
   ]
  },
  {
   "cell_type": "code",
   "execution_count": null,
   "id": "ab649e7d-aa9c-4689-bee3-7c7c243804e7",
   "metadata": {},
   "outputs": [],
   "source": [
    "# Extra"
   ]
  },
  {
   "cell_type": "code",
   "execution_count": null,
   "id": "99304128-4282-4b7d-9847-ed2dae8023c1",
   "metadata": {},
   "outputs": [],
   "source": [
    "# UNION\n",
    "join_result = pd.concat([result1,result2], ignore_index = True)"
   ]
  },
  {
   "cell_type": "code",
   "execution_count": null,
   "id": "0d666c12-151c-4ed6-9ee7-0eb377f1d65f",
   "metadata": {},
   "outputs": [],
   "source": []
  },
  {
   "cell_type": "code",
   "execution_count": null,
   "id": "00839f1f-a51c-4edb-9d03-ede3b6d7b8f9",
   "metadata": {},
   "outputs": [],
   "source": []
  }
 ],
 "metadata": {
  "kernelspec": {
   "display_name": "Python 3 (ipykernel)",
   "language": "python",
   "name": "python3"
  },
  "language_info": {
   "codemirror_mode": {
    "name": "ipython",
    "version": 3
   },
   "file_extension": ".py",
   "mimetype": "text/x-python",
   "name": "python",
   "nbconvert_exporter": "python",
   "pygments_lexer": "ipython3",
   "version": "3.13.2"
  }
 },
 "nbformat": 4,
 "nbformat_minor": 5
}
